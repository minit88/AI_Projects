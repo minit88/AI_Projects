{
  "nbformat": 4,
  "nbformat_minor": 0,
  "metadata": {
    "colab": {
      "provenance": [],
      "toc_visible": true,
      "authorship_tag": "ABX9TyNSI19M+Q86Omqp0jSs1bzk",
      "include_colab_link": true
    },
    "kernelspec": {
      "name": "python3",
      "display_name": "Python 3"
    },
    "language_info": {
      "name": "python"
    },
    "accelerator": "GPU"
  },
  "cells": [
    {
      "cell_type": "markdown",
      "metadata": {
        "id": "view-in-github",
        "colab_type": "text"
      },
      "source": [
        "<a href=\"https://colab.research.google.com/github/minit88/ML-Data_Analysis/blob/main/SK_project/EDA(bee).ipynb\" target=\"_parent\"><img src=\"https://colab.research.google.com/assets/colab-badge.svg\" alt=\"Open In Colab\"/></a>"
      ]
    },
    {
      "cell_type": "code",
      "execution_count": 3,
      "metadata": {
        "colab": {
          "base_uri": "https://localhost:8080/"
        },
        "id": "dJ6d1Huf3FJ8",
        "outputId": "afb17ee2-c71d-45c9-be00-f78ad2b8934d"
      },
      "outputs": [
        {
          "output_type": "stream",
          "name": "stdout",
          "text": [
            "               0             1              2             3             4   \\\n",
            "0    stndd_y,C,80  ctprv_n,C,80   sgng_nm,C,80  emndn_n,C,80  emndn_c,C,80   \n",
            "1            2020    ┤Ù└³▒ñ┐¬¢├           Á┐▒©       ãÃ¥¤1Á┐       2501055   \n",
            "2            2020    ┤Ù└³▒ñ┐¬¢├           Á┐▒©       ãÃ¥¤2Á┐       2501056   \n",
            "3            2020    ┤Ù└³▒ñ┐¬¢├           Á┐▒©        ┐Ù┐¯Á┐       2501057   \n",
            "4            2020    ┤Ù└³▒ñ┐¬¢├           Á┐▒©        ┤Ù├╗Á┐       2501073   \n",
            "..            ...           ...            ...           ...           ...   \n",
            "659          2020      ░µ╗¾│▓ÁÁ  ├ó┐°¢├ ┴°ÃÏ▒©        ┤÷╗ÛÁ┐       3811561   \n",
            "660          2020      ░µ╗¾│▓ÁÁ  ├ó┐°¢├ ┴°ÃÏ▒©        Ã│╚úÁ┐       3811562   \n",
            "661          2020      ░µ╗¾│▓ÁÁ  ├ó┐°¢├ ┴°ÃÏ▒©        ┐§├ÁÁ┐       3811563   \n",
            "662          2020      ░µ╗¾│▓ÁÁ  ├ó┐°¢├ ┴°ÃÏ▒©       ┐§Á┐1Á┐       3811564   \n",
            "663          2020      ░µ╗¾│▓ÁÁ  ├ó┐°¢├ ┴°ÃÏ▒©       ┐§Á┐2Á┐       3811565   \n",
            "\n",
            "               5                   6                     7   \\\n",
            "0    addng_c,C,80     tt_frm_,N,24,15       tt_rs__,N,24,15   \n",
            "1      3011055100   2.000000000000000   430.000000000000000   \n",
            "2      3011055200   1.000000000000000    99.000000000000000   \n",
            "3      3011056000   1.000000000000000   150.000000000000000   \n",
            "4      3011072500  12.000000000000000  1513.000000000000000   \n",
            "..            ...                 ...                   ...   \n",
            "659    4812961000   2.000000000000000   520.000000000000000   \n",
            "660    4812962000   5.000000000000000   399.000000000000000   \n",
            "661    4812963000   2.000000000000000   310.000000000000000   \n",
            "662    4812964000  12.000000000000000  1662.000000000000000   \n",
            "663    4812965000   5.000000000000000   460.000000000000000   \n",
            "\n",
            "                     8                     9                  10  \\\n",
            "0       ntkn___,N,24,15       imbr___,N,24,15    fxng___,N,24,15   \n",
            "1     0.000000000000000   430.000000000000000  0.000000000000000   \n",
            "2     0.000000000000000    99.000000000000000  0.000000000000000   \n",
            "3     0.000000000000000   150.000000000000000  0.000000000000000   \n",
            "4     0.000000000000000  1513.000000000000000  0.000000000000000   \n",
            "..                  ...                   ...                ...   \n",
            "659   0.000000000000000   520.000000000000000  0.000000000000000   \n",
            "660  13.000000000000000   386.000000000000000  0.000000000000000   \n",
            "661   0.000000000000000   310.000000000000000  0.000000000000000   \n",
            "662  14.000000000000000  1648.000000000000000  0.000000000000000   \n",
            "663  50.000000000000000   410.000000000000000  0.000000000000000   \n",
            "\n",
            "                    11  \n",
            "0      mvmn___,N,24,15  \n",
            "1    0.000000000000000  \n",
            "2    0.000000000000000  \n",
            "3    0.000000000000000  \n",
            "4    0.000000000000000  \n",
            "..                 ...  \n",
            "659  0.000000000000000  \n",
            "660  0.000000000000000  \n",
            "661  0.000000000000000  \n",
            "662  0.000000000000000  \n",
            "663  0.000000000000000  \n",
            "\n",
            "[664 rows x 12 columns]\n"
          ]
        }
      ],
      "source": [
        "from pandas.io.parsers import read_csv\n",
        "# 4열 행정코드\n",
        "# 경남 38~\n",
        "# 강원 32~\n",
        "# 충남 34~\n",
        "\n",
        "\n",
        "\n",
        "data = read_csv('/content/AnyConv.com__tb_emndn_becl_info.csv',header=None,sep=',')\n",
        "size = len(data[4])\n",
        "\n",
        "print(data)\n",
        "  "
      ]
    },
    {
      "cell_type": "markdown",
      "source": [
        "# **인덱스변수 리스트**"
      ],
      "metadata": {
        "id": "G2UojFI8uhBs"
      }
    },
    {
      "cell_type": "code",
      "source": [
        "chung_nam_idx_list = []\n",
        "gang_won_idx_list=[]\n",
        "gyeong_nam_idx_list=[]\n"
      ],
      "metadata": {
        "id": "Mf4cdQKquehg"
      },
      "execution_count": 4,
      "outputs": []
    },
    {
      "cell_type": "code",
      "source": [
        "for i in range(1,size):\n",
        "  if int(data[4][i])>=3800000:\n",
        "    gyeong_nam_idx_list.append(i+1)\n",
        "  elif int(data[4][i])>=3400000:\n",
        "    chung_nam_idx_list.append(i) \n",
        "  elif int(data[4][i])>=3200000:\n",
        "    gang_won_idx_list.append(i)\n",
        "\n",
        "print(chung_nam_idx_list) # 리스트 인덱스 정보 확인"
      ],
      "metadata": {
        "colab": {
          "base_uri": "https://localhost:8080/"
        },
        "id": "jtJJOM35u2-n",
        "outputId": "947d3600-52ae-43b6-a9ad-97ee7dcfb64b"
      },
      "execution_count": 7,
      "outputs": [
        {
          "output_type": "stream",
          "name": "stdout",
          "text": [
            "[343, 344, 345, 346, 347, 348, 349, 350, 351, 352, 353, 354, 355, 356, 357, 358, 359, 360, 361, 362, 363, 364, 365, 366, 367, 368, 369, 370, 371, 381, 382, 383, 384, 385, 386, 387, 388, 389, 390, 391, 392, 393, 394, 395, 396, 397, 398, 399, 400, 401, 402, 403, 404, 405, 406, 407, 408, 409, 410, 411, 412, 413, 414, 415, 416, 417, 418, 419, 420, 421, 422, 423, 424, 425, 426, 427, 428, 429, 430, 431, 432, 433, 434, 435, 436, 437, 438, 439, 440, 441, 442, 443, 444, 445, 446, 447, 448, 449, 450, 451, 467, 472, 473, 474, 475, 476, 477, 478, 479, 480, 481, 482, 483, 484, 485, 486, 494, 495, 496, 497, 498, 499, 500, 501, 502, 503, 504, 505, 552, 553, 554, 555, 556, 557, 558, 559, 560, 561, 562, 563, 564, 565, 566, 567, 568, 569, 570, 571, 572, 343, 344, 345, 346, 347, 348, 349, 350, 351, 352, 353, 354, 355, 356, 357, 358, 359, 360, 361, 362, 363, 364, 365, 366, 367, 368, 369, 370, 371, 381, 382, 383, 384, 385, 386, 387, 388, 389, 390, 391, 392, 393, 394, 395, 396, 397, 398, 399, 400, 401, 402, 403, 404, 405, 406, 407, 408, 409, 410, 411, 412, 413, 414, 415, 416, 417, 418, 419, 420, 421, 422, 423, 424, 425, 426, 427, 428, 429, 430, 431, 432, 433, 434, 435, 436, 437, 438, 439, 440, 441, 442, 443, 444, 445, 446, 447, 448, 449, 450, 451, 467, 472, 473, 474, 475, 476, 477, 478, 479, 480, 481, 482, 483, 484, 485, 486, 494, 495, 496, 497, 498, 499, 500, 501, 502, 503, 504, 505, 552, 553, 554, 555, 556, 557, 558, 559, 560, 561, 562, 563, 564, 565, 566, 567, 568, 569, 570, 571, 572]\n"
          ]
        }
      ]
    },
    {
      "cell_type": "markdown",
      "source": [
        "# **충남**"
      ],
      "metadata": {
        "id": "MU86E1VV0HAM"
      }
    },
    {
      "cell_type": "code",
      "source": [
        "total_number_of_households=0\n",
        "total_breeding_munitions=0\n",
        "for i in chung_nam_idx_list:\n",
        "  total_number_of_households+=float(data[6][i])\n",
        "  total_breeding_munitions+=float(data[7][i])\n",
        "\n",
        "print('총사육 가구수:',total_number_of_households,'\\t','총 사육 군수:',total_breeding_munitions)\n"
      ],
      "metadata": {
        "id": "JKY58x61w-xa",
        "outputId": "affeaae5-7795-4267-a82f-c5b8625f66b3",
        "colab": {
          "base_uri": "https://localhost:8080/"
        }
      },
      "execution_count": 14,
      "outputs": [
        {
          "output_type": "stream",
          "name": "stdout",
          "text": [
            "총사육 가구수: 3130.0 \t 총 사육 군수: 380128.0\n"
          ]
        }
      ]
    },
    {
      "cell_type": "markdown",
      "source": [
        "# **강원도**"
      ],
      "metadata": {
        "id": "6gGDr6Ml0OXT"
      }
    },
    {
      "cell_type": "code",
      "source": [
        "total_number_of_households=0\n",
        "total_breeding_munitions=0\n",
        "for i in gang_won_idx_list:\n",
        "  total_number_of_households+=float(data[6][i])\n",
        "  total_breeding_munitions+=float(data[7][i])\n",
        "\n",
        "print('총사육 가구수:',total_number_of_households,'\\t','총 사육 군수:',total_breeding_munitions)"
      ],
      "metadata": {
        "id": "vPNW84bs0QZQ",
        "outputId": "2bf2a71c-b38e-474f-d987-d74e107bbd6b",
        "colab": {
          "base_uri": "https://localhost:8080/"
        }
      },
      "execution_count": 15,
      "outputs": [
        {
          "output_type": "stream",
          "name": "stdout",
          "text": [
            "총사육 가구수: 7156.0 \t 총 사육 군수: 638620.0\n"
          ]
        }
      ]
    },
    {
      "cell_type": "markdown",
      "source": [
        "# **경남**"
      ],
      "metadata": {
        "id": "EVSra5n80YQ7"
      }
    },
    {
      "cell_type": "code",
      "source": [
        "total_number_of_households=0\n",
        "total_breeding_munitions=0\n",
        "for i in gyeong_nam_idx_list:\n",
        "  total_number_of_households+=float(data[6][i])\n",
        "  total_breeding_munitions+=float(data[7][i])\n",
        "\n",
        "print('총사육 가구수:',total_number_of_households,'\\t','총 사육 군수:',total_breeding_munitions)"
      ],
      "metadata": {
        "id": "yx420aIl0XyN",
        "outputId": "97f8d686-d66e-449a-a41d-bde266fea379",
        "colab": {
          "base_uri": "https://localhost:8080/"
        }
      },
      "execution_count": 16,
      "outputs": [
        {
          "output_type": "stream",
          "name": "stdout",
          "text": [
            "총사육 가구수: 5997.0 \t 총 사육 군수: 678262.0\n"
          ]
        }
      ]
    }
  ]
}